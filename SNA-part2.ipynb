{
 "cells": [
  {
   "cell_type": "code",
   "execution_count": 2,
   "id": "272b162b",
   "metadata": {},
   "outputs": [],
   "source": [
    "import numpy as np\n",
    "import pandas as pd\n",
    "from datetime import datetime\n",
    "import seaborn as sns\n",
    "import matplotlib.pyplot as plot"
   ]
  },
  {
   "cell_type": "code",
   "execution_count": 3,
   "id": "a04e3181",
   "metadata": {},
   "outputs": [],
   "source": [
    "data = pd.read_csv(\"C:/Users/Harshal Trivedi/Downloads/friend_track_data.csv\")"
   ]
  },
  {
   "cell_type": "code",
   "execution_count": 4,
   "id": "1f01a5f1",
   "metadata": {},
   "outputs": [],
   "source": [
    "data1 = data.drop_duplicates()"
   ]
  },
  {
   "cell_type": "code",
   "execution_count": 5,
   "id": "d2406c96",
   "metadata": {},
   "outputs": [],
   "source": [
    "data2 = data1[\"date\"].str.split(',', expand=True)"
   ]
  },
  {
   "cell_type": "code",
   "execution_count": 6,
   "id": "55314c11",
   "metadata": {},
   "outputs": [],
   "source": [
    "data1 = pd.concat([data1, data2], axis=1)"
   ]
  },
  {
   "cell_type": "code",
   "execution_count": 7,
   "id": "6402643f",
   "metadata": {},
   "outputs": [],
   "source": [
    "data1 = data1.drop(\"date\",axis=1)"
   ]
  },
  {
   "cell_type": "code",
   "execution_count": 8,
   "id": "93b2918e",
   "metadata": {},
   "outputs": [],
   "source": [
    "data1.rename(columns = {0:'Date',1:'Time'}, inplace = True)"
   ]
  },
  {
   "cell_type": "code",
   "execution_count": 9,
   "id": "089f63aa",
   "metadata": {},
   "outputs": [],
   "source": [
    "data12 = data1[\"Time\"].str.split(':', expand=True)\n",
    "data12 = pd.concat([data12, data1], axis=1)\n",
    "data12.rename(columns = {0:'Hrs',1:'time'}, inplace = True)"
   ]
  },
  {
   "cell_type": "code",
   "execution_count": 10,
   "id": "40bd5b46",
   "metadata": {},
   "outputs": [],
   "source": [
    "data12 = data12.drop(\"Time\",axis=1)"
   ]
  },
  {
   "cell_type": "code",
   "execution_count": 11,
   "id": "37b4f8b0",
   "metadata": {},
   "outputs": [],
   "source": [
    "data12['time'] = data12['time'].astype(int)\n",
    "data12['Hrs'] = data12['Hrs'].astype(int)"
   ]
  },
  {
   "cell_type": "code",
   "execution_count": 12,
   "id": "070e1ac7",
   "metadata": {},
   "outputs": [
    {
     "name": "stderr",
     "output_type": "stream",
     "text": [
      "C:\\Users\\Harshal Trivedi\\anaconda3\\lib\\site-packages\\pandas\\core\\indexing.py:1732: SettingWithCopyWarning: \n",
      "A value is trying to be set on a copy of a slice from a DataFrame\n",
      "\n",
      "See the caveats in the documentation: https://pandas.pydata.org/pandas-docs/stable/user_guide/indexing.html#returning-a-view-versus-a-copy\n",
      "  self._setitem_single_block(indexer, value, name)\n"
     ]
    }
   ],
   "source": [
    "for i in range(0,len(data12)):\n",
    "    data12.time.iloc[i] = data12.Hrs.iloc[i]*60 + data12.time.iloc[i]"
   ]
  },
  {
   "cell_type": "code",
   "execution_count": 13,
   "id": "f6d4aad7",
   "metadata": {},
   "outputs": [],
   "source": [
    "data12 = data12.drop(\"Hrs\",axis=1)"
   ]
  },
  {
   "cell_type": "code",
   "execution_count": 18,
   "id": "e9cd936a",
   "metadata": {},
   "outputs": [],
   "source": [
    "#here the x value is the date while y is the dataframe\n",
    "def meandeltat(x,y):\n",
    "    df1 = y.loc[y.Date == x]\n",
    "    df2 = df1.drop(['album','artist'],axis=1)\n",
    "    groupdata=df2.groupby('track')\n",
    "    arr = {}\n",
    "    i = 0\n",
    "    for song, group in groupdata:\n",
    "        arr[i] = group\n",
    "        i = i + 1\n",
    "    df3 = pd.DataFrame(arr.items(), columns=['id', 'comb'])\n",
    "    az = pd.DataFrame()\n",
    "    arr1 = []\n",
    "    for i in range(0,len(df3)):\n",
    "        s = 0\n",
    "        az = df3.comb[i].sort_values(by=['time'])\n",
    "        if(len(az)!=1):\n",
    "            for j in range(0,len(az)):\n",
    "                for k in range(j,len(az)):\n",
    "                    y = az['time'].iloc[k] - az['time'].iloc[j]\n",
    "                    s = s + y\n",
    "                mean = s/len(az)\n",
    "            arr1.insert(i,mean)\n",
    "    overall_mean = np.mean(arr1)\n",
    "    arr1.sort(reverse = True)\n",
    "    xa = np.arange(0,len(arr1))\n",
    "    ya = np.array(arr1)\n",
    " \n",
    "    # plotting\n",
    "    plot.title(\"Line graph for all difference of t\")\n",
    "    plot.xlabel(\"X axis: difference in time\")\n",
    "    plot.ylabel(\"Y axis: total number\")\n",
    "    plot.plot(xa, ya, color =\"green\")\n",
    "    plot.show()\n",
    "    return print(\"mean of time difference: \",overall_mean)"
   ]
  },
  {
   "cell_type": "code",
   "execution_count": 19,
   "id": "dbac798c",
   "metadata": {},
   "outputs": [
    {
     "data": {
      "image/png": "[encoded data removed]",
      "text/plain": [
       "<Figure size 432x288 with 1 Axes>"
      ]
     },
     "metadata": {
      "needs_background": "light"
     },
     "output_type": "display_data"
    },
    {
     "name": "stdout",
     "output_type": "stream",
     "text": [
      "mean of time difference:  241.7787132394859\n"
     ]
    }
   ],
   "source": [
    " meandeltat('31 Jan 2021',data12)"
   ]
  },
  {
   "cell_type": "code",
   "execution_count": null,
   "id": "99bd82b8",
   "metadata": {},
   "outputs": [],
   "source": []
  }
 ],
 "metadata": {
  "kernelspec": {
   "display_name": "Python 3 (ipykernel)",
   "language": "python",
   "name": "python3"
  },
  "language_info": {
   "codemirror_mode": {
    "name": "ipython",
    "version": 3
   },
   "file_extension": ".py",
   "mimetype": "text/x-python",
   "name": "python",
   "nbconvert_exporter": "python",
   "pygments_lexer": "ipython3",
   "version": "3.9.7"
  }
 },
 "nbformat": 4,
 "nbformat_minor": 5
}
